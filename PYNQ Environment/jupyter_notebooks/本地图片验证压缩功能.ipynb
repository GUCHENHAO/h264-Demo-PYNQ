{
 "cells": [
  {
   "cell_type": "code",
   "execution_count": 1,
   "metadata": {},
   "outputs": [
    {
     "name": "stdout",
     "output_type": "stream",
     "text": [
      "load ready\n"
     ]
    }
   ],
   "source": [
    "from pynq.overlays.hdmiin import HDMIINOverlay\n",
    "overlay = HDMIINOverlay(\"hdmiin.bit\")"
   ]
  },
  {
   "cell_type": "code",
   "execution_count": 2,
   "metadata": {},
   "outputs": [
    {
     "name": "stdout",
     "output_type": "stream",
     "text": [
      "{'btns_gpio': {'addr_range': 65536,\n",
      "               'driver': <class 'pynq.lib.axigpio.AxiGPIO'>,\n",
      "               'fullpath': 'btns_gpio',\n",
      "               'gpio': {},\n",
      "               'interrupts': {'ip2intc_irpt': {'controller': 'system_interrupts',\n",
      "                                               'fullpath': 'btns_gpio/ip2intc_irpt',\n",
      "                                               'index': 10}},\n",
      "               'phys_addr': 1092616192,\n",
      "               'state': None,\n",
      "               'type': 'xilinx.com:ip:axi_gpio:2.0'},\n",
      " 'h264enc_with_axi_0': {'addr_range': 65536,\n",
      "                        'driver': <class 'pynq.overlay.DefaultIP'>,\n",
      "                        'fullpath': 'h264enc_with_axi_0',\n",
      "                        'gpio': {},\n",
      "                        'interrupts': {},\n",
      "                        'phys_addr': 2210398208,\n",
      "                        'state': None,\n",
      "                        'type': 'xilinx.com:user:h264enc_with_axi:1.0'},\n",
      " 'rgbleds_gpio': {'addr_range': 65536,\n",
      "                  'driver': <class 'pynq.lib.axigpio.AxiGPIO'>,\n",
      "                  'fullpath': 'rgbleds_gpio',\n",
      "                  'gpio': {},\n",
      "                  'interrupts': {},\n",
      "                  'phys_addr': 1092681728,\n",
      "                  'state': None,\n",
      "                  'type': 'xilinx.com:ip:axi_gpio:2.0'},\n",
      " 'swsleds_gpio': {'addr_range': 65536,\n",
      "                  'driver': <class 'pynq.lib.axigpio.AxiGPIO'>,\n",
      "                  'fullpath': 'swsleds_gpio',\n",
      "                  'gpio': {},\n",
      "                  'interrupts': {'ip2intc_irpt': {'controller': 'system_interrupts',\n",
      "                                                  'fullpath': 'swsleds_gpio/ip2intc_irpt',\n",
      "                                                  'index': 11}},\n",
      "                  'phys_addr': 1092747264,\n",
      "                  'state': None,\n",
      "                  'type': 'xilinx.com:ip:axi_gpio:2.0'},\n",
      " 'system_interrupts': {'addr_range': 65536,\n",
      "                       'driver': <class 'pynq.overlay.DefaultIP'>,\n",
      "                       'fullpath': 'system_interrupts',\n",
      "                       'gpio': {},\n",
      "                       'interrupts': {},\n",
      "                       'phys_addr': 1098907648,\n",
      "                       'state': None,\n",
      "                       'type': 'xilinx.com:ip:axi_intc:4.1'},\n",
      " 'video/axi_vdma': {'addr_range': 65536,\n",
      "                    'driver': <class 'pynq.lib.video.AxiVDMA'>,\n",
      "                    'fullpath': 'video/axi_vdma',\n",
      "                    'gpio': {},\n",
      "                    'interrupts': {'mm2s_introut': {'controller': 'system_interrupts',\n",
      "                                                    'fullpath': 'video/axi_vdma/mm2s_introut',\n",
      "                                                    'index': 1},\n",
      "                                   's2mm_introut': {'controller': 'system_interrupts',\n",
      "                                                    'fullpath': 'video/axi_vdma/s2mm_introut',\n",
      "                                                    'index': 0}},\n",
      "                    'phys_addr': 1124073472,\n",
      "                    'state': None,\n",
      "                    'type': 'xilinx.com:ip:axi_vdma:6.2'},\n",
      " 'video/hdmi_in/color_convert': {'addr_range': 65536,\n",
      "                                 'driver': <class 'pynq.lib.video.ColorConverter'>,\n",
      "                                 'fullpath': 'video/hdmi_in/color_convert',\n",
      "                                 'gpio': {},\n",
      "                                 'interrupts': {},\n",
      "                                 'phys_addr': 1136721920,\n",
      "                                 'state': None,\n",
      "                                 'type': 'xilinx.com:hls:color_convert:1.0'},\n",
      " 'video/hdmi_in/frontend/axi_gpio_hdmiin': {'addr_range': 65536,\n",
      "                                            'driver': <class 'pynq.lib.axigpio.AxiGPIO'>,\n",
      "                                            'fullpath': 'video/hdmi_in/frontend/axi_gpio_hdmiin',\n",
      "                                            'gpio': {},\n",
      "                                            'interrupts': {},\n",
      "                                            'phys_addr': 1092812800,\n",
      "                                            'state': None,\n",
      "                                            'type': 'xilinx.com:ip:axi_gpio:2.0'},\n",
      " 'video/hdmi_in/frontend/vtc_in': {'addr_range': 65536,\n",
      "                                   'driver': <class 'pynq.overlay.DefaultIP'>,\n",
      "                                   'fullpath': 'video/hdmi_in/frontend/vtc_in',\n",
      "                                   'gpio': {},\n",
      "                                   'interrupts': {},\n",
      "                                   'phys_addr': 1136787456,\n",
      "                                   'state': None,\n",
      "                                   'type': 'xilinx.com:ip:v_tc:6.1'},\n",
      " 'video/hdmi_in/pixel_pack': {'addr_range': 65536,\n",
      "                              'driver': <class 'pynq.lib.video.PixelPacker'>,\n",
      "                              'fullpath': 'video/hdmi_in/pixel_pack',\n",
      "                              'gpio': {},\n",
      "                              'interrupts': {},\n",
      "                              'phys_addr': 1136852992,\n",
      "                              'state': None,\n",
      "                              'type': 'xilinx.com:hls:pixel_pack:1.0'},\n",
      " 'video/hdmi_out/color_convert': {'addr_range': 65536,\n",
      "                                  'driver': <class 'pynq.lib.video.ColorConverter'>,\n",
      "                                  'fullpath': 'video/hdmi_out/color_convert',\n",
      "                                  'gpio': {},\n",
      "                                  'interrupts': {},\n",
      "                                  'phys_addr': 1136918528,\n",
      "                                  'state': None,\n",
      "                                  'type': 'xilinx.com:hls:color_convert:1.0'},\n",
      " 'video/hdmi_out/frontend/axi_dynclk': {'addr_range': 65536,\n",
      "                                        'driver': <class 'pynq.overlay.DefaultIP'>,\n",
      "                                        'fullpath': 'video/hdmi_out/frontend/axi_dynclk',\n",
      "                                        'gpio': {},\n",
      "                                        'interrupts': {},\n",
      "                                        'phys_addr': 1136984064,\n",
      "                                        'state': None,\n",
      "                                        'type': 'digilentinc.com:ip:axi_dynclk:1.0'},\n",
      " 'video/hdmi_out/frontend/hdmi_out_hpd_video': {'addr_range': 65536,\n",
      "                                                'driver': <class 'pynq.lib.axigpio.AxiGPIO'>,\n",
      "                                                'fullpath': 'video/hdmi_out/frontend/hdmi_out_hpd_video',\n",
      "                                                'gpio': {},\n",
      "                                                'interrupts': {},\n",
      "                                                'phys_addr': 1092878336,\n",
      "                                                'state': None,\n",
      "                                                'type': 'xilinx.com:ip:axi_gpio:2.0'},\n",
      " 'video/hdmi_out/frontend/vtc_out': {'addr_range': 65536,\n",
      "                                     'driver': <class 'pynq.overlay.DefaultIP'>,\n",
      "                                     'fullpath': 'video/hdmi_out/frontend/vtc_out',\n",
      "                                     'gpio': {},\n",
      "                                     'interrupts': {},\n",
      "                                     'phys_addr': 1137049600,\n",
      "                                     'state': None,\n",
      "                                     'type': 'xilinx.com:ip:v_tc:6.1'},\n",
      " 'video/hdmi_out/pixel_unpack': {'addr_range': 65536,\n",
      "                                 'driver': <class 'pynq.lib.video.PixelPacker'>,\n",
      "                                 'fullpath': 'video/hdmi_out/pixel_unpack',\n",
      "                                 'gpio': {},\n",
      "                                 'interrupts': {},\n",
      "                                 'phys_addr': 1137115136,\n",
      "                                 'state': None,\n",
      "                                 'type': 'xilinx.com:hls:pixel_unpack:1.0'}}\n"
     ]
    }
   ],
   "source": [
    "from pprint import pprint\n",
    "pprint(overlay.ip_dict)"
   ]
  },
  {
   "cell_type": "code",
   "execution_count": 3,
   "metadata": {},
   "outputs": [
    {
     "name": "stdout",
     "output_type": "stream",
     "text": [
      "0x83c00000\n"
     ]
    }
   ],
   "source": [
    "print(hex(overlay.ip_dict['h264enc_with_axi_0']['phys_addr']))"
   ]
  },
  {
   "cell_type": "code",
   "execution_count": 4,
   "metadata": {
    "collapsed": true
   },
   "outputs": [],
   "source": [
    "from pynq import Xlnk\n",
    "\n",
    "xlnk = Xlnk()"
   ]
  },
  {
   "cell_type": "code",
   "execution_count": 5,
   "metadata": {
    "collapsed": true
   },
   "outputs": [],
   "source": [
    "import numpy as np\n",
    "data_size = int(640*480*1.5)\n",
    "cma_send = xlnk.cma_array([1, data_size], dtype=np.uint8)"
   ]
  },
  {
   "cell_type": "code",
   "execution_count": 6,
   "metadata": {
    "collapsed": true
   },
   "outputs": [],
   "source": [
    "with open('input_640_480.rgb32', 'rb') as f:\n",
    "    image_data = f.read()"
   ]
  },
  {
   "cell_type": "code",
   "execution_count": 7,
   "metadata": {
    "collapsed": true
   },
   "outputs": [],
   "source": [
    "for i in range(data_size):\n",
    "    cma_send[0][i] = image_data[i]"
   ]
  },
  {
   "cell_type": "code",
   "execution_count": 8,
   "metadata": {},
   "outputs": [
    {
     "name": "stdout",
     "output_type": "stream",
     "text": [
      "0x66\n",
      "0x87\n",
      "0xb7\n",
      "0xff\n",
      "0x67\n",
      "0x87\n",
      "0xb6\n",
      "0xff\n",
      "0x66\n",
      "0x87\n"
     ]
    }
   ],
   "source": [
    "for i in range(10):\n",
    "    print(hex(cma_send[0][i]))"
   ]
  },
  {
   "cell_type": "code",
   "execution_count": 9,
   "metadata": {},
   "outputs": [
    {
     "data": {
      "text/plain": [
       "'0x16880000'"
      ]
     },
     "execution_count": 9,
     "metadata": {},
     "output_type": "execute_result"
    }
   ],
   "source": [
    "hex(cma_send.physical_address)"
   ]
  },
  {
   "cell_type": "code",
   "execution_count": 10,
   "metadata": {
    "collapsed": true
   },
   "outputs": [],
   "source": [
    "cma_recv = xlnk.cma_array([1, data_size], dtype=np.uint8)"
   ]
  },
  {
   "cell_type": "code",
   "execution_count": 11,
   "metadata": {},
   "outputs": [
    {
     "data": {
      "text/plain": [
       "'0x16900000'"
      ]
     },
     "execution_count": 11,
     "metadata": {},
     "output_type": "execute_result"
    }
   ],
   "source": [
    "hex(cma_recv.physical_address)"
   ]
  },
  {
   "cell_type": "code",
   "execution_count": 12,
   "metadata": {
    "collapsed": true
   },
   "outputs": [],
   "source": [
    "from pynq import MMIO\n",
    "\n",
    "h264 = MMIO(overlay.ip_dict['h264enc_with_axi_0']['phys_addr'], 0x10000)"
   ]
  },
  {
   "cell_type": "code",
   "execution_count": 13,
   "metadata": {
    "collapsed": true
   },
   "outputs": [],
   "source": [
    "h264.write(0x04, 0x00001d27)\n",
    "h264.write(0x08, 0)\n",
    "h264.write(0x40, 0x00008816)\n",
    "h264.write(0x14, cma_send.physical_address)\n",
    "h264.write(0x18, cma_recv.physical_address)\n",
    "h264.write(0x00, 1)"
   ]
  },
  {
   "cell_type": "code",
   "execution_count": 14,
   "metadata": {},
   "outputs": [
    {
     "name": "stdout",
     "output_type": "stream",
     "text": [
      "0xfb\n",
      "0x84\n",
      "0x78\n",
      "0x43\n",
      "0xfc\n",
      "0x0\n",
      "0x54\n",
      "0x67\n",
      "0xb\n",
      "0x1b\n"
     ]
    }
   ],
   "source": [
    "for i in range(10):\n",
    "    print(hex(cma_recv[0][i]))"
   ]
  },
  {
   "cell_type": "code",
   "execution_count": 15,
   "metadata": {},
   "outputs": [
    {
     "name": "stdout",
     "output_type": "stream",
     "text": [
      "217414\n"
     ]
    }
   ],
   "source": [
    "print(h264.read(0x1c))"
   ]
  },
  {
   "cell_type": "code",
   "execution_count": 16,
   "metadata": {},
   "outputs": [
    {
     "data": {
      "text/plain": [
       "'0x43c20000'"
      ]
     },
     "execution_count": 16,
     "metadata": {},
     "output_type": "execute_result"
    }
   ],
   "source": [
    "hex(1136787456)"
   ]
  },
  {
   "cell_type": "code",
   "execution_count": null,
   "metadata": {
    "collapsed": true
   },
   "outputs": [],
   "source": []
  }
 ],
 "metadata": {
  "kernelspec": {
   "display_name": "Python 3",
   "language": "python",
   "name": "python3"
  },
  "language_info": {
   "codemirror_mode": {
    "name": "ipython",
    "version": 3
   },
   "file_extension": ".py",
   "mimetype": "text/x-python",
   "name": "python",
   "nbconvert_exporter": "python",
   "pygments_lexer": "ipython3",
   "version": "3.6.0"
  }
 },
 "nbformat": 4,
 "nbformat_minor": 2
}
