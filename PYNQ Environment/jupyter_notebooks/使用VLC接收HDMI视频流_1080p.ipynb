{
 "cells": [
  {
   "cell_type": "code",
   "execution_count": 1,
   "metadata": {
    "collapsed": true
   },
   "outputs": [],
   "source": [
    "%load_ext autoreload"
   ]
  },
  {
   "cell_type": "code",
   "execution_count": 2,
   "metadata": {
    "collapsed": true
   },
   "outputs": [],
   "source": [
    "%autoreload 2"
   ]
  },
  {
   "cell_type": "code",
   "execution_count": 3,
   "metadata": {},
   "outputs": [
    {
     "name": "stdout",
     "output_type": "stream",
     "text": [
      "load ready\n"
     ]
    }
   ],
   "source": [
    "from pynq.overlays.h264 import H264Overlay\n",
    "from pynq.lib.video import *\n",
    "\n",
    "base = H264Overlay(\"h264.bit\")\n",
    "hdmi_in = base.video.hdmi_in"
   ]
  },
  {
   "cell_type": "code",
   "execution_count": 4,
   "metadata": {
    "collapsed": true
   },
   "outputs": [],
   "source": [
    "from pynq import MMIO\n",
    "rgb2yuv = MMIO(base.ip_dict['h264/rgb2yuv_with_axi_0']['phys_addr'], 0x10000)\n",
    "h264 = MMIO(base.ip_dict['h264/h264enc_with_axi_0']['phys_addr'], 0x10000)\n",
    "\n",
    "from h264py.h264 import H264\n",
    "h264_send = H264()\n",
    "\n",
    "from pynq import Xlnk\n",
    "xlnk = Xlnk()"
   ]
  },
  {
   "cell_type": "code",
   "execution_count": 5,
   "metadata": {
    "collapsed": true
   },
   "outputs": [],
   "source": [
    "size = 1920*1088*4"
   ]
  },
  {
   "cell_type": "markdown",
   "metadata": {},
   "source": [
    "## repeat from here"
   ]
  },
  {
   "cell_type": "code",
   "execution_count": 10,
   "metadata": {
    "scrolled": true
   },
   "outputs": [
    {
     "name": "stdout",
     "output_type": "stream",
     "text": [
      "196.29687213897705\n"
     ]
    }
   ],
   "source": [
    "with hdmi_in.configure(pixelformat=PIXEL_RGBA):\n",
    "    hdmi_in.start()\n",
    "    cma_recv = xlnk.cma_array((size,), dtype=np.uint8)\n",
    "    result = xlnk.cma_array((size,), dtype=np.uint8)\n",
    "    start = time.time()\n",
    "    for i in range(2000):\n",
    "        \n",
    "        cma_send = hdmi_in.readframe()\n",
    "        \n",
    "        rgb2yuv.write(0x04, cma_send.physical_address)\n",
    "        rgb2yuv.write(0x08, cma_recv.physical_address)\n",
    "        rgb2yuv.write(0x0c, 1088)\n",
    "        rgb2yuv.write(0x10, 1920)\n",
    "        rgb2yuv.write(0x14, 1920*1088)\n",
    "        rgb2yuv.write(0x00, 1)\n",
    "        rgb2yuv.write(0x00, 0)\n",
    "        while rgb2yuv.read(0x18)==1: pass\n",
    "        while rgb2yuv.read(0x18)==0: pass\n",
    "        \n",
    "        h264.write(0x04, 0x00004377) # length 1088*1920\n",
    "        h264.write(0x08, 0)\n",
    "        h264.write(0x14, cma_recv.physical_address)\n",
    "        h264.write(0x18, result.physical_address)\n",
    "        h264.write(0x00, 1)\n",
    "        while h264.read(0x24)==1: pass\n",
    "        while h264.read(0x24)==0: pass\n",
    "\n",
    "        h264_size = h264.read(0x1c)\n",
    "        h264_send.send_frame(result[:h264_size])\n",
    "\n",
    "        cma_send.freebuffer()\n",
    "        \n",
    "    print(time.time()-start)\n",
    "\n",
    "cma_recv.freebuffer()\n",
    "result.freebuffer()"
   ]
  },
  {
   "cell_type": "code",
   "execution_count": null,
   "metadata": {
    "collapsed": true
   },
   "outputs": [],
   "source": [
    "xlnk.xlnk_reset()"
   ]
  },
  {
   "cell_type": "code",
   "execution_count": null,
   "metadata": {
    "collapsed": true
   },
   "outputs": [],
   "source": []
  }
 ],
 "metadata": {
  "kernelspec": {
   "display_name": "Python 3",
   "language": "python",
   "name": "python3"
  },
  "language_info": {
   "codemirror_mode": {
    "name": "ipython",
    "version": 3
   },
   "file_extension": ".py",
   "mimetype": "text/x-python",
   "name": "python",
   "nbconvert_exporter": "python",
   "pygments_lexer": "ipython3",
   "version": "3.6.0"
  }
 },
 "nbformat": 4,
 "nbformat_minor": 2
}
