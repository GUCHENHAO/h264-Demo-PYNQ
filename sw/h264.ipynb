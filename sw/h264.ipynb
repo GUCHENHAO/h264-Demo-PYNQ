{
 "cells": [
  {
   "cell_type": "code",
   "execution_count": 54,
   "metadata": {
    "collapsed": true
   },
   "outputs": [],
   "source": [
    "from pynq.overlays.h264 import H264Overlay"
   ]
  },
  {
   "cell_type": "code",
   "execution_count": 55,
   "metadata": {},
   "outputs": [
    {
     "name": "stdout",
     "output_type": "stream",
     "text": [
      "load ready\n"
     ]
    }
   ],
   "source": [
    "overlay = H264Overlay(\"h264.bit\")"
   ]
  },
  {
   "cell_type": "code",
   "execution_count": 56,
   "metadata": {},
   "outputs": [
    {
     "name": "stdout",
     "output_type": "stream",
     "text": [
      "{'h264enc_with_axi_0': {'addr_range': 65536,\n",
      "                        'driver': <class 'pynq.overlay.DefaultIP'>,\n",
      "                        'fullpath': 'h264enc_with_axi_0',\n",
      "                        'gpio': {},\n",
      "                        'interrupts': {},\n",
      "                        'phys_addr': 1136656384,\n",
      "                        'state': None,\n",
      "                        'type': 'xilinx.com:user:h264enc_with_axi:1.0'}}\n"
     ]
    }
   ],
   "source": [
    "from pprint import pprint\n",
    "pprint(overlay.ip_dict)"
   ]
  },
  {
   "cell_type": "code",
   "execution_count": 57,
   "metadata": {},
   "outputs": [
    {
     "name": "stdout",
     "output_type": "stream",
     "text": [
      "0x43c00000\n"
     ]
    }
   ],
   "source": [
    "print(hex(overlay.ip_dict['h264enc_with_axi_0']['phys_addr']))"
   ]
  },
  {
   "cell_type": "code",
   "execution_count": 25,
   "metadata": {
    "collapsed": true
   },
   "outputs": [],
   "source": [
    "from pynq import Xlnk\n",
    "\n",
    "xlnk = Xlnk()"
   ]
  },
  {
   "cell_type": "code",
   "execution_count": 26,
   "metadata": {},
   "outputs": [],
   "source": [
    "import numpy as np\n",
    "data_size = int(640*480*1.5)\n",
    "cma_send = xlnk.cma_array([1, data_size], dtype=np.uint8)"
   ]
  },
  {
   "cell_type": "code",
   "execution_count": 38,
   "metadata": {},
   "outputs": [],
   "source": [
    "with open('h264.yuv', 'rb') as f:\n",
    "    image_data = f.read()"
   ]
  },
  {
   "cell_type": "code",
   "execution_count": 45,
   "metadata": {},
   "outputs": [],
   "source": [
    "for i in range(data_size):\n",
    "    cma_send[0][i] = image_data[i]"
   ]
  },
  {
   "cell_type": "code",
   "execution_count": 69,
   "metadata": {},
   "outputs": [
    {
     "name": "stdout",
     "output_type": "stream",
     "text": [
      "0x80\n",
      "0x80\n",
      "0x80\n",
      "0x80\n",
      "0x80\n",
      "0x80\n",
      "0x80\n",
      "0x80\n",
      "0x7e\n",
      "0x7e\n"
     ]
    }
   ],
   "source": [
    "for i in range(10):\n",
    "    print(hex(cma_send[0][i]))"
   ]
  },
  {
   "cell_type": "code",
   "execution_count": 70,
   "metadata": {},
   "outputs": [
    {
     "data": {
      "text/plain": [
       "'0x16900000'"
      ]
     },
     "execution_count": 70,
     "metadata": {},
     "output_type": "execute_result"
    }
   ],
   "source": [
    "hex(cma_send.physical_address)"
   ]
  },
  {
   "cell_type": "code",
   "execution_count": 71,
   "metadata": {
    "collapsed": true
   },
   "outputs": [],
   "source": [
    "cma_recv = xlnk.cma_array([1, data_size], dtype=np.uint8)"
   ]
  },
  {
   "cell_type": "code",
   "execution_count": 72,
   "metadata": {},
   "outputs": [
    {
     "data": {
      "text/plain": [
       "'0x16a00000'"
      ]
     },
     "execution_count": 72,
     "metadata": {},
     "output_type": "execute_result"
    }
   ],
   "source": [
    "hex(cma_recv.physical_address)"
   ]
  },
  {
   "cell_type": "code",
   "execution_count": 66,
   "metadata": {
    "collapsed": true
   },
   "outputs": [],
   "source": [
    "from pynq import MMIO\n",
    "\n",
    "h264 = MMIO(overlay.ip_dict['h264enc_with_axi_0']['phys_addr'], 0x10000)"
   ]
  },
  {
   "cell_type": "code",
   "execution_count": 73,
   "metadata": {},
   "outputs": [],
   "source": [
    "h264.write(0x04, 0x00001d27)\n",
    "h264.write(0x08, 0)\n",
    "h264.write(0x40, 0x00008816)\n",
    "h264.write(0x14, cma_send.physical_address)\n",
    "h264.write(0x18, cma_recv.physical_address)\n",
    "h264.write(0x00, 1)"
   ]
  },
  {
   "cell_type": "code",
   "execution_count": 76,
   "metadata": {},
   "outputs": [
    {
     "name": "stdout",
     "output_type": "stream",
     "text": [
      "0xff\n",
      "0xf8\n",
      "0xfa\n",
      "0xfe\n",
      "0xbd\n",
      "0x5a\n",
      "0x13\n",
      "0xc9\n",
      "0xe7\n",
      "0x16\n"
     ]
    }
   ],
   "source": [
    "for i in range(data_size):\n",
    "    print(hex(cma_recv[0][i]))"
   ]
  },
  {
   "cell_type": "code",
   "execution_count": 77,
   "metadata": {
    "collapsed": true
   },
   "outputs": [],
   "source": [
    "print(h264.read(0x1c))"
   ]
  }
 ],
 "metadata": {
  "kernelspec": {
   "display_name": "Python 3",
   "language": "python",
   "name": "python3"
  },
  "language_info": {
   "codemirror_mode": {
    "name": "ipython",
    "version": 3
   },
   "file_extension": ".py",
   "mimetype": "text/x-python",
   "name": "python",
   "nbconvert_exporter": "python",
   "pygments_lexer": "ipython3",
   "version": "3.6.0"
  }
 },
 "nbformat": 4,
 "nbformat_minor": 2
}
